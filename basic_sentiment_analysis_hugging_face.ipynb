{
 "cells": [
  {
   "cell_type": "code",
   "execution_count": 2,
   "id": "f9fc09d9",
   "metadata": {},
   "outputs": [
    {
     "name": "stderr",
     "output_type": "stream",
     "text": [
      "c:\\ML\\Transformers\\myenv\\lib\\site-packages\\tqdm\\auto.py:21: TqdmWarning: IProgress not found. Please update jupyter and ipywidgets. See https://ipywidgets.readthedocs.io/en/stable/user_install.html\n",
      "  from .autonotebook import tqdm as notebook_tqdm\n"
     ]
    }
   ],
   "source": [
    "from transformers import pipeline"
   ]
  },
  {
   "cell_type": "code",
   "execution_count": 3,
   "id": "905ad44b",
   "metadata": {},
   "outputs": [
    {
     "name": "stderr",
     "output_type": "stream",
     "text": [
      "Device set to use cpu\n"
     ]
    }
   ],
   "source": [
    "sentiment_analyzer = pipeline(\"sentiment-analysis\", model = \"distilbert-base-uncased-finetuned-sst-2-english\")"
   ]
  },
  {
   "cell_type": "code",
   "execution_count": 4,
   "id": "1915a207",
   "metadata": {},
   "outputs": [
    {
     "name": "stdout",
     "output_type": "stream",
     "text": [
      "{'label': 'POSITIVE', 'score': 0.9996734857559204}\n",
      "{'label': 'NEGATIVE', 'score': 0.996977686882019}\n"
     ]
    }
   ],
   "source": [
    "texts = [\n",
    "    \"I love playing and watching football!\",\n",
    "    \"I hate when a player misses a penalty!\"\n",
    "]\n",
    "\n",
    "results = sentiment_analyzer(texts)\n",
    "for result in results:\n",
    "    print(result)"
   ]
  },
  {
   "cell_type": "code",
   "execution_count": 7,
   "id": "75f9343c",
   "metadata": {},
   "outputs": [
    {
     "name": "stderr",
     "output_type": "stream",
     "text": [
      "Device set to use cpu\n",
      "Truncation was not explicitly activated but `max_length` is provided a specific value, please use `truncation=True` to explicitly truncate examples to max length. Defaulting to 'longest_first' truncation strategy. If you encode pairs of sequences (GLUE-style) with the tokenizer you can select this strategy more precisely by providing a specific strategy to `truncation`.\n",
      "Setting `pad_token_id` to `eos_token_id`:50256 for open-end generation.\n",
      "Both `max_new_tokens` (=256) and `max_length`(=30) seem to have been set. `max_new_tokens` will take precedence. Please refer to the documentation for more information. (https://huggingface.co/docs/transformers/main/en/main_classes/text_generation)\n"
     ]
    },
    {
     "name": "stdout",
     "output_type": "stream",
     "text": [
      "[{'generated_text': 'In this course, we will teach you how to use the language as a framework for a modern, modern, and easily-used language.\\n\\n\\n\\nThe Introduction\\nThe Introduction\\nThe Introduction is the introductory course designed to give you the basic knowledge of a language.\\nThe Introduction is the introductory course written by a professional programmer.\\nThe Introduction is a short introduction to the language and its syntax.'}, {'generated_text': 'In this course, we will teach you how to build a real-time virtual computer using a Raspberry Pi. You can also learn how to install and configure the Raspberry Pi via the Raspberry Pi.\\n\\n\\n\\n\\nStep 1: Download the \"Download\"\\nStep 2: Download the \"Download\" and copy the \"Install\" data into the Raspberry Pi.\\nStep 3: Install the \"Install\" data into the Raspberry Pi.\\nStep 4: Open the \"Download\" file and click \"Download\"\\nStep 5: Make the Raspberry Pi look like it is a Raspberry Pi.\\nStep 6: Make the Raspberry Pi look like it is a Raspberry Pi.\\nStep 7: Open the \"Download\" file and click \"Download\"\\nStep 8: Open the \"Download\" file and click \"Download\"\\nStep 9: Open the \"Download\" file and click \"Download\"\\nStep 10: Open the \"Download\" file and click \"Download\"\\nStep 11: Open the \"Download\" file and click \"Download\"\\nStep 12: Open the \"Download\" file and click \"Download\"\\nStep 13: Open the \"Download\" file and click \"Download\"\\nStep 14: Open the \"Download\" file and click \"Download\"\\nStep 15: Open the \"Download\" file and'}]\n"
     ]
    }
   ],
   "source": [
    "## different exmaples of pipeline\n",
    "# pipeline 2\n",
    "\n",
    "\n",
    "generator = pipeline(\"text-generation\", model = \"distilgpt2\")\n",
    "\n",
    "res = generator(\"In this course, we will teach you how to\",\n",
    "                max_length = 30,\n",
    "                num_return_sequences = 2\n",
    "                \n",
    "                )\n",
    "print(res)"
   ]
  },
  {
   "cell_type": "code",
   "execution_count": 9,
   "id": "71e8e156",
   "metadata": {},
   "outputs": [
    {
     "name": "stderr",
     "output_type": "stream",
     "text": [
      "No model was supplied, defaulted to facebook/bart-large-mnli and revision d7645e1 (https://huggingface.co/facebook/bart-large-mnli).\n",
      "Using a pipeline without specifying a model name and revision in production is not recommended.\n",
      "Device set to use cpu\n"
     ]
    },
    {
     "name": "stdout",
     "output_type": "stream",
     "text": [
      "{'sequence': 'This is a course about transformers', 'labels': ['education', 'business', 'sports'], 'scores': [0.7889325022697449, 0.16456863284111023, 0.04649889096617699]}\n"
     ]
    }
   ],
   "source": [
    "## pipeline 3\n",
    "\n",
    "classifier = pipeline(\"zero-shot-classification\")\n",
    "\n",
    "res2 = classifier(\"This is a course about transformers\",\n",
    "                  candidate_labels = [\"education\",\"sports\",\"business\"]\n",
    "                  )\n",
    "print(res2)"
   ]
  },
  {
   "cell_type": "code",
   "execution_count": null,
   "id": "d3e27e7b",
   "metadata": {},
   "outputs": [],
   "source": []
  }
 ],
 "metadata": {
  "kernelspec": {
   "display_name": "myenv",
   "language": "python",
   "name": "python3"
  },
  "language_info": {
   "codemirror_mode": {
    "name": "ipython",
    "version": 3
   },
   "file_extension": ".py",
   "mimetype": "text/x-python",
   "name": "python",
   "nbconvert_exporter": "python",
   "pygments_lexer": "ipython3",
   "version": "3.10.11"
  }
 },
 "nbformat": 4,
 "nbformat_minor": 5
}
